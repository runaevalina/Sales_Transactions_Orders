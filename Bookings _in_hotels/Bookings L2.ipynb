{
 "cells": [
  {
   "cell_type": "markdown",
   "metadata": {},
   "source": [
    "Задачи\n",
    "Импортируйте библиотеку pandas как pd. Загрузите датасет bookings.csv с разделителем ;. Проверьте размер таблицы, типы переменных, а затем выведите первые 7 строк, чтобы посмотреть на данные. \n",
    "Приведите названия колонок к нижнему регистру и замените пробелы на знак нижнего подчеркивания.\n",
    "\n",
    "\n",
    "Пользователи из каких стран совершили наибольшее число успешных бронирований? Укажите топ-5.\n",
    "На сколько ночей в среднем бронируют отели разных типов?\n",
    "Иногда тип номера, полученного клиентом (assigned_room_type), отличается от изначально забронированного (reserved_room_type). Такое может произойти, например, по причине овербукинга. Сколько подобных наблюдений встретилось в датасете?\n",
    "Проанализируйте даты запланированного прибытия. – На какой месяц чаще всего успешно оформляли бронь в 2016? Изменился ли самый популярный месяц в 2017?– Сгруппируйте данные по годам и проверьте, на какой месяц бронирования отеля типа City Hotel отменялись чаще всего в каждый из периодов\n",
    "Посмотрите на числовые характеристики трёх переменных: adults, children и babies. Какая из них имеет наибольшее среднее значение?\n",
    "Создайте колонку total_kids, объединив children и babies. Для отелей какого типа среднее значение переменной оказалось наибольшим?\n",
    "Создайте переменную has_kids, которая принимает значение True, если клиент при бронировании указал хотя бы одного ребенка (total_kids), в противном случае – False. Посчитайте отношение количества ушедших пользователей к общему количеству клиентов, выраженное в процентах (churn rate). Укажите, среди какой группы показатель выше.\n",
    " \n",
    "\n",
    "Описание данных\n",
    "Имеются следующие переменные:\n",
    "\n",
    "Hotel – тип отеля (City Hotel или Resort Hotel)  \n",
    "Is canceled – бронирование было отменено (1) или нет (0); не отмененное считается успешным\n",
    "Lead time – количество дней, прошедших между датой бронирования и датой прибытия  \n",
    "Arrival full date – полная дата прибытия\n",
    "Arrival date year – год прибытия  \n",
    "Arrival date month – месяц прибытия  \n",
    "Arrival date week number – номер недели прибытия\n",
    "Arrival date day of month – день прибытия\n",
    "Stays in weekend nights – количество выходных (суббота или воскресенье), которые гость забронировал для проживания в отеле\n",
    "Stays in week nights – количество дней (с понедельника по пятницу), которые гость забронировал для проживания в отеле\n",
    "Stays total nights – общее число забронированных ночей (сумма двух предыдущих колонок)\n",
    "Adults – число взрослых\n",
    "Children – число детей\n",
    "Babies – число младенцев \n",
    "Meal – выбранный тип питания\n",
    "Country – страна происхождения клиента\n",
    "Reserved room type – тип зарезервированного номера\n",
    "Assigned room type – тип полученного номера (может отличаться от забронированного)\n",
    "Customer type – тип бронирования\n",
    "Reservation status – значение последнего статуса брони: Canceled - было отменено клиентом; Check-Out - клиент зарегистрировался, но уже покинул отель; No-Show - клиент не зарегистрировался и сообщил администрации отеля причину\n",
    "Reservation status date – дата обновления статуса"
   ]
  },
  {
   "cell_type": "code",
   "execution_count": 3,
   "metadata": {},
   "outputs": [],
   "source": [
    "import pandas as pd"
   ]
  },
  {
   "cell_type": "code",
   "execution_count": 4,
   "metadata": {},
   "outputs": [],
   "source": [
    "path = '~/Projects_Python/Source/2_bookings.csv' # set the file path"
   ]
  },
  {
   "cell_type": "code",
   "execution_count": 5,
   "metadata": {},
   "outputs": [],
   "source": [
    "df = pd.read_csv(path, sep=';')# read first 10 rows in file using separation between columns as \";\""
   ]
  },
  {
   "cell_type": "code",
   "execution_count": null,
   "metadata": {},
   "outputs": [],
   "source": [
    "#let's rename columns in a common way"
   ]
  },
  {
   "cell_type": "code",
   "execution_count": null,
   "metadata": {},
   "outputs": [],
   "source": [
    "rename_cloumns = {}\n",
    "for col in df.columns:\n",
    "    rename_cloumns[col] = col.replace(\" \", \"_\").lower()\n",
    "\n"
   ]
  },
  {
   "cell_type": "code",
   "execution_count": null,
   "metadata": {},
   "outputs": [],
   "source": [
    "df = df.rename(columns = rename_cloumns)"
   ]
  },
  {
   "cell_type": "code",
   "execution_count": null,
   "metadata": {},
   "outputs": [],
   "source": [
    "df.dtypes # check data types in table"
   ]
  },
  {
   "cell_type": "code",
   "execution_count": null,
   "metadata": {},
   "outputs": [],
   "source": [
    "#there are dates columns but now the type is wrong"
   ]
  },
  {
   "cell_type": "code",
   "execution_count": null,
   "metadata": {},
   "outputs": [],
   "source": [
    "df[[\"arrival_full_date\",\"reservation_status_date\"]] = df[[\"arrival_full_date\",\"reservation_status_date\"]].apply(pd.to_datetime)"
   ]
  },
  {
   "cell_type": "markdown",
   "metadata": {},
   "source": [
    "TOP-5 countries according to succesfull  booking amount"
   ]
  },
  {
   "cell_type": "code",
   "execution_count": null,
   "metadata": {},
   "outputs": [],
   "source": [
    "df.query('reservation_status == \"Check-Out\"')\\\n",
    ".groupby(\"country\", as_index = False)\\\n",
    ".agg({\"hotel\":\"count\"})\\\n",
    ".rename(columns ={\"hotel\":\"qty\"})\\\n",
    ".sort_values(by =\"qty\", ascending = False)\\\n",
    ".head(5)"
   ]
  },
  {
   "cell_type": "code",
   "execution_count": null,
   "metadata": {},
   "outputs": [],
   "source": [
    "#df.loc[df.is_canceled==0].country.value_counts().head(5)"
   ]
  },
  {
   "cell_type": "markdown",
   "metadata": {},
   "source": [
    "What is the average qty of nights in bookings in the different types of hotels?   "
   ]
  },
  {
   "cell_type": "code",
   "execution_count": null,
   "metadata": {},
   "outputs": [],
   "source": [
    "df['ttl_days']=df['stays_in_weekend_nights'] + df['stays_in_week_nights'] # calculate ttl numner of week and weekend days"
   ]
  },
  {
   "cell_type": "code",
   "execution_count": null,
   "metadata": {},
   "outputs": [],
   "source": [
    "av_nights = df.groupby(\"hotel\", as_index = False).agg({\"ttl_days\":\"mean\"}).round()\n",
    "av_nights"
   ]
  },
  {
   "cell_type": "markdown",
   "metadata": {},
   "source": [
    "Sometimes assigned_room_type is not the same as reserved_room_type. It may happen in case of overbooking.\n",
    "How many of such cases are in df? What dates?"
   ]
  },
  {
   "cell_type": "code",
   "execution_count": null,
   "metadata": {},
   "outputs": [],
   "source": [
    "len(df.loc[df.assigned_room_type != df.reserved_room_type])#calculate the number of rows where the values are not same"
   ]
  },
  {
   "cell_type": "code",
   "execution_count": null,
   "metadata": {},
   "outputs": [],
   "source": [
    "df.query('assigned_room_type != reserved_room_type')\\\n",
    ".groupby([\"arrival_full_date\",\"hotel\"], as_index = False)\\\n",
    ".agg({\"country\":\"count\"})\\\n",
    ".rename(columns = {\"country\":\"qty\"})\\\n",
    ".sort_values(by =\"qty\", ascending = False)\\\n",
    ".head(10) #top 10 results when the room type was not the same as it was planned, when it happened and where(hotel)"
   ]
  },
  {
   "cell_type": "markdown",
   "metadata": {},
   "source": [
    "What are the planned arrival dates? What month was the top in 2016? Is it same in 2017?"
   ]
  },
  {
   "cell_type": "code",
   "execution_count": null,
   "metadata": {},
   "outputs": [],
   "source": [
    "df.query('arrival_date_year == [\"2016\", \"2017\"]').groupby([\"arrival_date_year\",'arrival_date_month']).agg({\"hotel\":\"count\"})\\\n",
    ".rename(columns = {\"hotel\":\"qty\"})\\\n",
    ".sort_values(by =\"qty\", ascending = False)\\\n",
    ".head()"
   ]
  },
  {
   "cell_type": "markdown",
   "metadata": {},
   "source": [
    "Group data by hotels, which month was the most cancelled for City Hotel."
   ]
  },
  {
   "cell_type": "code",
   "execution_count": null,
   "metadata": {},
   "outputs": [],
   "source": [
    "df.query('is_canceled == \"1\"')\\\n",
    ".groupby(['hotel','arrival_date_month','arrival_date_year'])\\\n",
    ".agg({\"country\":\"count\"})\\\n",
    ".rename(columns = {\"country\":\"qty\"})\\\n",
    ".sort_values(by = [\"hotel\",\"qty\"], ascending = False)"
   ]
  },
  {
   "cell_type": "code",
   "execution_count": null,
   "metadata": {},
   "outputs": [],
   "source": [
    "#another way\n",
    "df.groupby([\"arrival_date_year\",'arrival_date_month']).is_canceled.sum().groupby('arrival_date_year').nlargest(1)"
   ]
  },
  {
   "cell_type": "markdown",
   "metadata": {},
   "source": [
    "\n",
    "Look at the numerical characteristics of three variables: adults, children and babies. Which one has the largest average value?\n",
    "Create a total_kids column by concatenating children and babies. For which type of hotels did the average value of the variable turn out to be the largest?"
   ]
  },
  {
   "cell_type": "code",
   "execution_count": null,
   "metadata": {},
   "outputs": [],
   "source": [
    "df[['children','babies','adults']].mean()"
   ]
  },
  {
   "cell_type": "code",
   "execution_count": null,
   "metadata": {},
   "outputs": [],
   "source": [
    "df['total_kids']= df['children'] + df['babies'] #create new col with info from 'children' and 'babies'"
   ]
  },
  {
   "cell_type": "code",
   "execution_count": null,
   "metadata": {},
   "outputs": [],
   "source": [
    "df.groupby(['hotel']).total_kids.mean()"
   ]
  },
  {
   "cell_type": "markdown",
   "metadata": {},
   "source": [
    "\n",
    "Create a has_kids variable that takes the value True if the client specified at least one child during the booking (total_kids), otherwise False. Calculate the ratio of the number of users who left to the total number of customers, expressed as a percentage (churn rate). Indicate which group has the highest rate."
   ]
  },
  {
   "cell_type": "code",
   "execution_count": null,
   "metadata": {},
   "outputs": [],
   "source": [
    "def has_kids(x): #function that checks id the value > 0 \n",
    "    if x > 0:\n",
    "     return True\n",
    "    else: \n",
    "     return False"
   ]
  },
  {
   "cell_type": "code",
   "execution_count": null,
   "metadata": {},
   "outputs": [],
   "source": [
    "df['has_kids']= df['total_kids'].apply(has_kids)# create new col and applying created function has_kids"
   ]
  },
  {
   "cell_type": "code",
   "execution_count": null,
   "metadata": {},
   "outputs": [],
   "source": [
    "#df['has_kids']=df.total_kids.astype(bool)"
   ]
  },
  {
   "cell_type": "code",
   "execution_count": null,
   "metadata": {},
   "outputs": [],
   "source": [
    "df.total_kids.astype(bool).value_counts()"
   ]
  },
  {
   "cell_type": "code",
   "execution_count": null,
   "metadata": {},
   "outputs": [],
   "source": [
    "rates = df.groupby('has_kids')['is_canceled'].value_counts(normalize=True)\n",
    "rates "
   ]
  },
  {
   "cell_type": "code",
   "execution_count": null,
   "metadata": {},
   "outputs": [],
   "source": []
  },
  {
   "cell_type": "code",
   "execution_count": null,
   "metadata": {},
   "outputs": [],
   "source": []
  }
 ],
 "metadata": {
  "kernelspec": {
   "display_name": "Python 3",
   "language": "python",
   "name": "python3"
  },
  "language_info": {
   "codemirror_mode": {
    "name": "ipython",
    "version": 3
   },
   "file_extension": ".py",
   "mimetype": "text/x-python",
   "name": "python",
   "nbconvert_exporter": "python",
   "pygments_lexer": "ipython3",
   "version": "3.8.3"
  }
 },
 "nbformat": 4,
 "nbformat_minor": 4
}

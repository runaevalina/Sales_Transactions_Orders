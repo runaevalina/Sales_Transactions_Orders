{
 "cells": [
  {
   "cell_type": "markdown",
   "metadata": {},
   "source": [
    "Разберемся с распределением количества показов и кликов. Посчитайте среднее количество показов и среднее количество кликов на объявления за весь период (округлите до целых).\n",
    "Нарисуйте график распределения показов на объявление за весь период.\n",
    "Давайте посчитаем скользящее среднее показов с окном 2. Какое значение скользящего среднего получим за 6 апреля 2019 года (ответ округлите до целых)?\n",
    "\n",
    "Here is the data of interactions with advertisements on a certain site for 6 days. And a table with the characteristics of advertising clients (those who posted these ads)."
   ]
  },
  {
   "cell_type": "markdown",
   "metadata": {},
   "source": [
    "Data we have\n",
    "\n",
    "ads_data.csv – ad interaction data\n",
    "\n",
    "-date\n",
    "-time \n",
    "-event – view/click\n",
    "-platform\n",
    "-ad_id \n",
    "-client_union_id – id of ad account\n",
    "-campaign_union_id – id ad compaign\n",
    "-ad_cost_type – payment type\n",
    "-ad_cost – ad price\n",
    "-has_video – status\n",
    "-target_audience_count -audience value\n",
    "\n",
    "ads_clients_data.csv – clients info\n",
    "\n",
    "-date \n",
    "-client_union_id – id of ad account\n",
    "-community_id – id of community\n",
    "-create_date – ad client creation date\n"
   ]
  },
  {
   "cell_type": "code",
   "execution_count": 91,
   "metadata": {},
   "outputs": [],
   "source": [
    "import pandas as pd\n",
    "import seaborn as sns\n",
    "import matplotlib as mpl\n",
    "import matplotlib.pyplot as plt\n",
    "\n",
    "import numpy as np"
   ]
  },
  {
   "cell_type": "code",
   "execution_count": 92,
   "metadata": {},
   "outputs": [],
   "source": [
    "ads = pd.read_csv('/Users/alinarunaeva/Projects_Python/Advertasing_Clicks_and_CR/ads_data.csv') #read file"
   ]
  },
  {
   "cell_type": "code",
   "execution_count": 93,
   "metadata": {},
   "outputs": [
    {
     "data": {
      "text/html": [
       "<div>\n",
       "<style scoped>\n",
       "    .dataframe tbody tr th:only-of-type {\n",
       "        vertical-align: middle;\n",
       "    }\n",
       "\n",
       "    .dataframe tbody tr th {\n",
       "        vertical-align: top;\n",
       "    }\n",
       "\n",
       "    .dataframe thead th {\n",
       "        text-align: right;\n",
       "    }\n",
       "</style>\n",
       "<table border=\"1\" class=\"dataframe\">\n",
       "  <thead>\n",
       "    <tr style=\"text-align: right;\">\n",
       "      <th></th>\n",
       "      <th>date</th>\n",
       "      <th>time</th>\n",
       "      <th>event</th>\n",
       "      <th>platform</th>\n",
       "      <th>ad_id</th>\n",
       "      <th>client_union_id</th>\n",
       "      <th>campaign_union_id</th>\n",
       "      <th>ad_cost_type</th>\n",
       "      <th>ad_cost</th>\n",
       "      <th>has_video</th>\n",
       "      <th>target_audience_count</th>\n",
       "    </tr>\n",
       "  </thead>\n",
       "  <tbody>\n",
       "    <tr>\n",
       "      <th>0</th>\n",
       "      <td>2019-04-01</td>\n",
       "      <td>2019-04-01 00:00:48</td>\n",
       "      <td>view</td>\n",
       "      <td>android</td>\n",
       "      <td>45061</td>\n",
       "      <td>34734</td>\n",
       "      <td>45061</td>\n",
       "      <td>CPM</td>\n",
       "      <td>200.6</td>\n",
       "      <td>0</td>\n",
       "      <td>1955269</td>\n",
       "    </tr>\n",
       "    <tr>\n",
       "      <th>1</th>\n",
       "      <td>2019-04-01</td>\n",
       "      <td>2019-04-01 00:00:48</td>\n",
       "      <td>view</td>\n",
       "      <td>web</td>\n",
       "      <td>121288</td>\n",
       "      <td>121288</td>\n",
       "      <td>121288</td>\n",
       "      <td>CPM</td>\n",
       "      <td>187.4</td>\n",
       "      <td>0</td>\n",
       "      <td>232011</td>\n",
       "    </tr>\n",
       "    <tr>\n",
       "      <th>2</th>\n",
       "      <td>2019-04-01</td>\n",
       "      <td>2019-04-01 00:01:03</td>\n",
       "      <td>view</td>\n",
       "      <td>android</td>\n",
       "      <td>102737</td>\n",
       "      <td>102535</td>\n",
       "      <td>102564</td>\n",
       "      <td>CPC</td>\n",
       "      <td>60.7</td>\n",
       "      <td>0</td>\n",
       "      <td>4410</td>\n",
       "    </tr>\n",
       "    <tr>\n",
       "      <th>3</th>\n",
       "      <td>2019-04-01</td>\n",
       "      <td>2019-04-01 00:01:03</td>\n",
       "      <td>view</td>\n",
       "      <td>android</td>\n",
       "      <td>107564</td>\n",
       "      <td>106914</td>\n",
       "      <td>107564</td>\n",
       "      <td>CPM</td>\n",
       "      <td>217.3</td>\n",
       "      <td>0</td>\n",
       "      <td>62711</td>\n",
       "    </tr>\n",
       "    <tr>\n",
       "      <th>4</th>\n",
       "      <td>2019-04-01</td>\n",
       "      <td>2019-04-01 00:01:09</td>\n",
       "      <td>view</td>\n",
       "      <td>android</td>\n",
       "      <td>4922</td>\n",
       "      <td>37</td>\n",
       "      <td>4400</td>\n",
       "      <td>CPC</td>\n",
       "      <td>60.1</td>\n",
       "      <td>0</td>\n",
       "      <td>1183501</td>\n",
       "    </tr>\n",
       "  </tbody>\n",
       "</table>\n",
       "</div>"
      ],
      "text/plain": [
       "         date                 time event platform   ad_id  client_union_id  \\\n",
       "0  2019-04-01  2019-04-01 00:00:48  view  android   45061            34734   \n",
       "1  2019-04-01  2019-04-01 00:00:48  view      web  121288           121288   \n",
       "2  2019-04-01  2019-04-01 00:01:03  view  android  102737           102535   \n",
       "3  2019-04-01  2019-04-01 00:01:03  view  android  107564           106914   \n",
       "4  2019-04-01  2019-04-01 00:01:09  view  android    4922               37   \n",
       "\n",
       "   campaign_union_id ad_cost_type  ad_cost  has_video  target_audience_count  \n",
       "0              45061          CPM    200.6          0                1955269  \n",
       "1             121288          CPM    187.4          0                 232011  \n",
       "2             102564          CPC     60.7          0                   4410  \n",
       "3             107564          CPM    217.3          0                  62711  \n",
       "4               4400          CPC     60.1          0                1183501  "
      ]
     },
     "execution_count": 93,
     "metadata": {},
     "output_type": "execute_result"
    }
   ],
   "source": [
    "ads.head()"
   ]
  },
  {
   "cell_type": "code",
   "execution_count": 94,
   "metadata": {},
   "outputs": [
    {
     "name": "stdout",
     "output_type": "stream",
     "text": [
      "<class 'pandas.core.frame.DataFrame'>\n",
      "RangeIndex: 1000000 entries, 0 to 999999\n",
      "Data columns (total 11 columns):\n",
      " #   Column                 Non-Null Count    Dtype  \n",
      "---  ------                 --------------    -----  \n",
      " 0   date                   1000000 non-null  object \n",
      " 1   time                   1000000 non-null  object \n",
      " 2   event                  1000000 non-null  object \n",
      " 3   platform               1000000 non-null  object \n",
      " 4   ad_id                  1000000 non-null  int64  \n",
      " 5   client_union_id        1000000 non-null  int64  \n",
      " 6   campaign_union_id      1000000 non-null  int64  \n",
      " 7   ad_cost_type           1000000 non-null  object \n",
      " 8   ad_cost                1000000 non-null  float64\n",
      " 9   has_video              1000000 non-null  int64  \n",
      " 10  target_audience_count  1000000 non-null  int64  \n",
      "dtypes: float64(1), int64(5), object(5)\n",
      "memory usage: 83.9+ MB\n"
     ]
    }
   ],
   "source": [
    "ads.info() #show data type and df size"
   ]
  },
  {
   "cell_type": "code",
   "execution_count": 95,
   "metadata": {},
   "outputs": [],
   "source": [
    "#Date and time types in df should be changed"
   ]
  },
  {
   "cell_type": "code",
   "execution_count": 96,
   "metadata": {},
   "outputs": [],
   "source": [
    "ads['date'] = pd.to_datetime(ads['date'])\n",
    "\n",
    "# let's change date type to date"
   ]
  },
  {
   "cell_type": "markdown",
   "metadata": {},
   "source": [
    "1. Let's work with ads info\n",
    "Посчитайте среднее количество показов и среднее количество кликов на объявления за весь период (округлите до целых).\n",
    "\n",
    "Calculate the average number of views and the average number of clicks on ads for the entire period (round up to integers)."
   ]
  },
  {
   "cell_type": "code",
   "execution_count": 97,
   "metadata": {},
   "outputs": [],
   "source": [
    "events = ads.groupby(['ad_id','event'], as_index = False)\\\n",
    ".agg({\"platform\":\"count\"})\\\n",
    ".rename(columns = {\"platform\":\"qty\"})\\\n",
    ".pivot(index='ad_id', columns='event', values='qty').reset_index()\\\n",
    ".fillna(0)\n"
   ]
  },
  {
   "cell_type": "markdown",
   "metadata": {},
   "source": [
    "#**Как сделать сводную таблицу?**\n",
    "    \n",
    "#Для создания сводной таблички вам нужен датафрэйм с 3-мя колонками - значения одной станут индексом, \n",
    "#значения другой - колонками, а значения третьей распределятся по получающейся табличке. \n",
    "#df.pivot(index='index_column', columns='columns_column', values='values_column')\n",
    "\n",
    "#fillna(144)= заполняет пропуски\n",
    "\n",
    "#**How to make a pivot table?**\n",
    "    \n",
    "#To create a pivot table you need a dataframe with 3 columns - the values ​​are available by one index,\n",
    "#values - in columns, and the values ​​differ according to the resulting plate.\n",
    "#df.pivot(index='index_column', columns='columns_column', values='values_column')\n"
   ]
  },
  {
   "cell_type": "code",
   "execution_count": 98,
   "metadata": {},
   "outputs": [
    {
     "data": {
      "text/html": [
       "<div>\n",
       "<style scoped>\n",
       "    .dataframe tbody tr th:only-of-type {\n",
       "        vertical-align: middle;\n",
       "    }\n",
       "\n",
       "    .dataframe tbody tr th {\n",
       "        vertical-align: top;\n",
       "    }\n",
       "\n",
       "    .dataframe thead th {\n",
       "        text-align: right;\n",
       "    }\n",
       "</style>\n",
       "<table border=\"1\" class=\"dataframe\">\n",
       "  <thead>\n",
       "    <tr style=\"text-align: right;\">\n",
       "      <th>event</th>\n",
       "      <th>ad_id</th>\n",
       "      <th>click</th>\n",
       "      <th>view</th>\n",
       "    </tr>\n",
       "  </thead>\n",
       "  <tbody>\n",
       "    <tr>\n",
       "      <th>0</th>\n",
       "      <td>2</td>\n",
       "      <td>1.0</td>\n",
       "      <td>101.0</td>\n",
       "    </tr>\n",
       "    <tr>\n",
       "      <th>1</th>\n",
       "      <td>3</td>\n",
       "      <td>3.0</td>\n",
       "      <td>184.0</td>\n",
       "    </tr>\n",
       "    <tr>\n",
       "      <th>2</th>\n",
       "      <td>1902</td>\n",
       "      <td>1.0</td>\n",
       "      <td>41.0</td>\n",
       "    </tr>\n",
       "    <tr>\n",
       "      <th>3</th>\n",
       "      <td>2064</td>\n",
       "      <td>0.0</td>\n",
       "      <td>35.0</td>\n",
       "    </tr>\n",
       "    <tr>\n",
       "      <th>4</th>\n",
       "      <td>2132</td>\n",
       "      <td>1.0</td>\n",
       "      <td>58.0</td>\n",
       "    </tr>\n",
       "    <tr>\n",
       "      <th>...</th>\n",
       "      <td>...</td>\n",
       "      <td>...</td>\n",
       "      <td>...</td>\n",
       "    </tr>\n",
       "    <tr>\n",
       "      <th>960</th>\n",
       "      <td>122004</td>\n",
       "      <td>4.0</td>\n",
       "      <td>100.0</td>\n",
       "    </tr>\n",
       "    <tr>\n",
       "      <th>961</th>\n",
       "      <td>122013</td>\n",
       "      <td>0.0</td>\n",
       "      <td>156.0</td>\n",
       "    </tr>\n",
       "    <tr>\n",
       "      <th>962</th>\n",
       "      <td>122023</td>\n",
       "      <td>0.0</td>\n",
       "      <td>68.0</td>\n",
       "    </tr>\n",
       "    <tr>\n",
       "      <th>963</th>\n",
       "      <td>122031</td>\n",
       "      <td>1.0</td>\n",
       "      <td>138.0</td>\n",
       "    </tr>\n",
       "    <tr>\n",
       "      <th>964</th>\n",
       "      <td>122078</td>\n",
       "      <td>0.0</td>\n",
       "      <td>42.0</td>\n",
       "    </tr>\n",
       "  </tbody>\n",
       "</table>\n",
       "<p>965 rows × 3 columns</p>\n",
       "</div>"
      ],
      "text/plain": [
       "event   ad_id  click   view\n",
       "0           2    1.0  101.0\n",
       "1           3    3.0  184.0\n",
       "2        1902    1.0   41.0\n",
       "3        2064    0.0   35.0\n",
       "4        2132    1.0   58.0\n",
       "..        ...    ...    ...\n",
       "960    122004    4.0  100.0\n",
       "961    122013    0.0  156.0\n",
       "962    122023    0.0   68.0\n",
       "963    122031    1.0  138.0\n",
       "964    122078    0.0   42.0\n",
       "\n",
       "[965 rows x 3 columns]"
      ]
     },
     "execution_count": 98,
     "metadata": {},
     "output_type": "execute_result"
    }
   ],
   "source": [
    "events #av. results of the period"
   ]
  },
  {
   "cell_type": "markdown",
   "metadata": {},
   "source": [
    "Отобразите распределения показов на объявление за весь период.\n",
    "\n",
    "Show the distribution of views per ad for the entire period."
   ]
  },
  {
   "cell_type": "code",
   "execution_count": 99,
   "metadata": {},
   "outputs": [],
   "source": [
    "views = ads.query('event == \"view\"')\\\n",
    ".groupby(['ad_id'], as_index = False)\\\n",
    ".agg({\"platform\":\"count\"})\\\n",
    ".rename(columns = {\"platform\":\"views\"})"
   ]
  },
  {
   "cell_type": "code",
   "execution_count": 100,
   "metadata": {},
   "outputs": [],
   "source": [
    "views['logg'] = np.log(views.views)# add new column with log values of views"
   ]
  },
  {
   "cell_type": "code",
   "execution_count": 101,
   "metadata": {},
   "outputs": [
    {
     "data": {
      "text/html": [
       "<div>\n",
       "<style scoped>\n",
       "    .dataframe tbody tr th:only-of-type {\n",
       "        vertical-align: middle;\n",
       "    }\n",
       "\n",
       "    .dataframe tbody tr th {\n",
       "        vertical-align: top;\n",
       "    }\n",
       "\n",
       "    .dataframe thead th {\n",
       "        text-align: right;\n",
       "    }\n",
       "</style>\n",
       "<table border=\"1\" class=\"dataframe\">\n",
       "  <thead>\n",
       "    <tr style=\"text-align: right;\">\n",
       "      <th></th>\n",
       "      <th>ad_id</th>\n",
       "      <th>views</th>\n",
       "      <th>logg</th>\n",
       "    </tr>\n",
       "  </thead>\n",
       "  <tbody>\n",
       "    <tr>\n",
       "      <th>0</th>\n",
       "      <td>2</td>\n",
       "      <td>101</td>\n",
       "      <td>4.615121</td>\n",
       "    </tr>\n",
       "    <tr>\n",
       "      <th>1</th>\n",
       "      <td>3</td>\n",
       "      <td>184</td>\n",
       "      <td>5.214936</td>\n",
       "    </tr>\n",
       "    <tr>\n",
       "      <th>2</th>\n",
       "      <td>1902</td>\n",
       "      <td>41</td>\n",
       "      <td>3.713572</td>\n",
       "    </tr>\n",
       "    <tr>\n",
       "      <th>3</th>\n",
       "      <td>2064</td>\n",
       "      <td>35</td>\n",
       "      <td>3.555348</td>\n",
       "    </tr>\n",
       "    <tr>\n",
       "      <th>4</th>\n",
       "      <td>2132</td>\n",
       "      <td>58</td>\n",
       "      <td>4.060443</td>\n",
       "    </tr>\n",
       "  </tbody>\n",
       "</table>\n",
       "</div>"
      ],
      "text/plain": [
       "   ad_id  views      logg\n",
       "0      2    101  4.615121\n",
       "1      3    184  5.214936\n",
       "2   1902     41  3.713572\n",
       "3   2064     35  3.555348\n",
       "4   2132     58  4.060443"
      ]
     },
     "execution_count": 101,
     "metadata": {},
     "output_type": "execute_result"
    }
   ],
   "source": [
    "views.head()"
   ]
  },
  {
   "cell_type": "code",
   "execution_count": 102,
   "metadata": {},
   "outputs": [
    {
     "data": {
      "text/plain": [
       "<matplotlib.axes._subplots.AxesSubplot at 0x7fb78c1a64f0>"
      ]
     },
     "execution_count": 102,
     "metadata": {},
     "output_type": "execute_result"
    },
    {
     "data": {
      "image/png": "[encoded data removed]",
      "text/plain": [
       "<Figure size 432x288 with 1 Axes>"
      ]
     },
     "metadata": {
      "needs_background": "light"
     },
     "output_type": "display_data"
    }
   ],
   "source": [
    "sns.distplot(views)"
   ]
  },
  {
   "cell_type": "markdown",
   "metadata": {},
   "source": [
    "Нужно найти среднее количество показов на 1 объявление (ad_id) по дням, не учитывая объявления, у которых не было показов (обычное среднее). \n",
    "Посчитаем скользящее среднее показов с окном 2. Какое значение скользящего среднего получим за 6 апреля 2019 года?\n",
    "\n",
    "Let's calculate the moving average of impressions with a window of 2. What is the moving average value for April 6, 2019?"
   ]
  },
  {
   "cell_type": "code",
   "execution_count": 103,
   "metadata": {},
   "outputs": [],
   "source": [
    "ad_view = ads.query('event == \"view\"')\\\n",
    ".pivot_table(index = 'ad_id', columns='date', values='platform', aggfunc = 'count')\\\n",
    ".round()\n",
    "# create pivot table, where dates are columns\n"
   ]
  },
  {
   "cell_type": "code",
   "execution_count": 104,
   "metadata": {},
   "outputs": [
    {
     "data": {
      "text/html": [
       "<div>\n",
       "<style scoped>\n",
       "    .dataframe tbody tr th:only-of-type {\n",
       "        vertical-align: middle;\n",
       "    }\n",
       "\n",
       "    .dataframe tbody tr th {\n",
       "        vertical-align: top;\n",
       "    }\n",
       "\n",
       "    .dataframe thead th {\n",
       "        text-align: right;\n",
       "    }\n",
       "</style>\n",
       "<table border=\"1\" class=\"dataframe\">\n",
       "  <thead>\n",
       "    <tr style=\"text-align: right;\">\n",
       "      <th>date</th>\n",
       "      <th>2019-04-01</th>\n",
       "      <th>2019-04-02</th>\n",
       "      <th>2019-04-03</th>\n",
       "      <th>2019-04-04</th>\n",
       "      <th>2019-04-05</th>\n",
       "      <th>2019-04-06</th>\n",
       "    </tr>\n",
       "    <tr>\n",
       "      <th>ad_id</th>\n",
       "      <th></th>\n",
       "      <th></th>\n",
       "      <th></th>\n",
       "      <th></th>\n",
       "      <th></th>\n",
       "      <th></th>\n",
       "    </tr>\n",
       "  </thead>\n",
       "  <tbody>\n",
       "    <tr>\n",
       "      <th>2</th>\n",
       "      <td>83.0</td>\n",
       "      <td>18.0</td>\n",
       "      <td>NaN</td>\n",
       "      <td>NaN</td>\n",
       "      <td>NaN</td>\n",
       "      <td>NaN</td>\n",
       "    </tr>\n",
       "    <tr>\n",
       "      <th>3</th>\n",
       "      <td>158.0</td>\n",
       "      <td>26.0</td>\n",
       "      <td>NaN</td>\n",
       "      <td>NaN</td>\n",
       "      <td>NaN</td>\n",
       "      <td>NaN</td>\n",
       "    </tr>\n",
       "    <tr>\n",
       "      <th>1902</th>\n",
       "      <td>NaN</td>\n",
       "      <td>NaN</td>\n",
       "      <td>34.0</td>\n",
       "      <td>7.0</td>\n",
       "      <td>NaN</td>\n",
       "      <td>NaN</td>\n",
       "    </tr>\n",
       "    <tr>\n",
       "      <th>2064</th>\n",
       "      <td>NaN</td>\n",
       "      <td>28.0</td>\n",
       "      <td>7.0</td>\n",
       "      <td>NaN</td>\n",
       "      <td>NaN</td>\n",
       "      <td>NaN</td>\n",
       "    </tr>\n",
       "    <tr>\n",
       "      <th>2132</th>\n",
       "      <td>NaN</td>\n",
       "      <td>NaN</td>\n",
       "      <td>25.0</td>\n",
       "      <td>27.0</td>\n",
       "      <td>6.0</td>\n",
       "      <td>NaN</td>\n",
       "    </tr>\n",
       "  </tbody>\n",
       "</table>\n",
       "</div>"
      ],
      "text/plain": [
       "date   2019-04-01  2019-04-02  2019-04-03  2019-04-04  2019-04-05  2019-04-06\n",
       "ad_id                                                                        \n",
       "2            83.0        18.0         NaN         NaN         NaN         NaN\n",
       "3           158.0        26.0         NaN         NaN         NaN         NaN\n",
       "1902          NaN         NaN        34.0         7.0         NaN         NaN\n",
       "2064          NaN        28.0         7.0         NaN         NaN         NaN\n",
       "2132          NaN         NaN        25.0        27.0         6.0         NaN"
      ]
     },
     "execution_count": 104,
     "metadata": {},
     "output_type": "execute_result"
    }
   ],
   "source": [
    "ad_view.head()"
   ]
  },
  {
   "cell_type": "code",
   "execution_count": 105,
   "metadata": {},
   "outputs": [
    {
     "data": {
      "text/plain": [
       "date\n",
       "2019-04-01    154.482270\n",
       "2019-04-02    137.786982\n",
       "2019-04-03    163.952778\n",
       "2019-04-04    675.901720\n",
       "2019-04-05    919.109677\n",
       "2019-04-06    277.122727\n",
       "dtype: float64"
      ]
     },
     "execution_count": 105,
     "metadata": {},
     "output_type": "execute_result"
    }
   ],
   "source": [
    "ad_view_mean = ad_view.mean() \n",
    "ad_view_mean #arithmetic average result"
   ]
  },
  {
   "cell_type": "code",
   "execution_count": 106,
   "metadata": {},
   "outputs": [],
   "source": [
    "rolling_daily = ad_view.mean().rolling(window = 2).mean().round() #rolling  average result by day"
   ]
  },
  {
   "cell_type": "code",
   "execution_count": 107,
   "metadata": {},
   "outputs": [
    {
     "data": {
      "text/plain": [
       "date\n",
       "2019-04-01      NaN\n",
       "2019-04-02    146.0\n",
       "2019-04-03    151.0\n",
       "2019-04-04    420.0\n",
       "2019-04-05    798.0\n",
       "2019-04-06    598.0\n",
       "dtype: float64"
      ]
     },
     "execution_count": 107,
     "metadata": {},
     "output_type": "execute_result"
    }
   ],
   "source": [
    "rolling_daily"
   ]
  },
  {
   "cell_type": "code",
   "execution_count": 108,
   "metadata": {},
   "outputs": [
    {
     "data": {
      "text/plain": [
       "598.0"
      ]
     },
     "execution_count": 108,
     "metadata": {},
     "output_type": "execute_result"
    }
   ],
   "source": [
    "rolling_daily['2019-04-06'] # result for the exact date"
   ]
  },
  {
   "cell_type": "markdown",
   "metadata": {},
   "source": [
    "Скользящее среднее часто используется для поиска аномалий в данных. Давайте попробуем нанести на один график значения просто среднего количества показов по дням и скользящего среднего на основе этих данных (которое мы получили в прошлом задании).\n",
    "Давайте попробуем нанести на один график значения арифметического среднего по дням и скользящего среднего количества показов. В какой день наблюдается наибольшая разница по модулю между арифметическим средним и скользящим средним? Дни, в которых скользящее среднее равно NaN, не учитываем.\n",
    "\n",
    "The rolling average is often used to find anomalies in data. Let's try to plot on one graph the values of just the average number of impressions by day and the rolling average based on this data (which we received in the last task).\n",
    "Let's try to plot the values of the arithmetic average by days and the rolling average of the number of views on one chart. On which day is the greatest difference in modulus between the arithmetic average and the rolling  average? Days in which the moving average is equal to NaN are not taken into account."
   ]
  },
  {
   "cell_type": "code",
   "execution_count": 109,
   "metadata": {},
   "outputs": [
    {
     "data": {
      "image/png": "[encoded data removed]",
      "text/plain": [
       "<Figure size 432x432 with 1 Axes>"
      ]
     },
     "metadata": {
      "needs_background": "light"
     },
     "output_type": "display_data"
    }
   ],
   "source": [
    "fig, ax = plt.subplots(figsize = (6,6))\n",
    "sns.lineplot(data= ad_view_mean, ax = ax, label = 'mean_plot')\n",
    "sns.lineplot(data= rolling_daily, ax = ax, label = 'rolling_plot')\n",
    "ax.tick_params(rotation = 45)"
   ]
  },
  {
   "cell_type": "markdown",
   "metadata": {},
   "source": [
    "2. Let's work with customers' events"
   ]
  },
  {
   "cell_type": "code",
   "execution_count": 110,
   "metadata": {},
   "outputs": [],
   "source": [
    "clients = pd.read_csv('/Users/alinarunaeva/Projects_Python/Advertasing_Clicks_and_CR/ads_clients_data.csv')"
   ]
  },
  {
   "cell_type": "code",
   "execution_count": 111,
   "metadata": {},
   "outputs": [
    {
     "name": "stdout",
     "output_type": "stream",
     "text": [
      "<class 'pandas.core.frame.DataFrame'>\n",
      "RangeIndex: 122078 entries, 0 to 122077\n",
      "Data columns (total 4 columns):\n",
      " #   Column           Non-Null Count   Dtype \n",
      "---  ------           --------------   ----- \n",
      " 0   date             122078 non-null  object\n",
      " 1   client_union_id  122078 non-null  int64 \n",
      " 2   community_id     122078 non-null  int64 \n",
      " 3   create_date      122078 non-null  object\n",
      "dtypes: int64(2), object(2)\n",
      "memory usage: 3.7+ MB\n"
     ]
    }
   ],
   "source": [
    "clients.info()"
   ]
  },
  {
   "cell_type": "code",
   "execution_count": 112,
   "metadata": {},
   "outputs": [
    {
     "data": {
      "text/html": [
       "<div>\n",
       "<style scoped>\n",
       "    .dataframe tbody tr th:only-of-type {\n",
       "        vertical-align: middle;\n",
       "    }\n",
       "\n",
       "    .dataframe tbody tr th {\n",
       "        vertical-align: top;\n",
       "    }\n",
       "\n",
       "    .dataframe thead th {\n",
       "        text-align: right;\n",
       "    }\n",
       "</style>\n",
       "<table border=\"1\" class=\"dataframe\">\n",
       "  <thead>\n",
       "    <tr style=\"text-align: right;\">\n",
       "      <th></th>\n",
       "      <th>date</th>\n",
       "      <th>client_union_id</th>\n",
       "      <th>community_id</th>\n",
       "      <th>create_date</th>\n",
       "    </tr>\n",
       "  </thead>\n",
       "  <tbody>\n",
       "    <tr>\n",
       "      <th>0</th>\n",
       "      <td>2020-05-07</td>\n",
       "      <td>1</td>\n",
       "      <td>-130371893</td>\n",
       "      <td>2018-12-24</td>\n",
       "    </tr>\n",
       "    <tr>\n",
       "      <th>1</th>\n",
       "      <td>2020-05-07</td>\n",
       "      <td>2</td>\n",
       "      <td>-130304626</td>\n",
       "      <td>2019-02-10</td>\n",
       "    </tr>\n",
       "    <tr>\n",
       "      <th>2</th>\n",
       "      <td>2020-05-07</td>\n",
       "      <td>3</td>\n",
       "      <td>-130462599</td>\n",
       "      <td>2019-01-25</td>\n",
       "    </tr>\n",
       "    <tr>\n",
       "      <th>3</th>\n",
       "      <td>2020-05-07</td>\n",
       "      <td>4</td>\n",
       "      <td>-130574300</td>\n",
       "      <td>2018-12-09</td>\n",
       "    </tr>\n",
       "    <tr>\n",
       "      <th>4</th>\n",
       "      <td>2020-05-07</td>\n",
       "      <td>5</td>\n",
       "      <td>-130292358</td>\n",
       "      <td>2019-01-08</td>\n",
       "    </tr>\n",
       "  </tbody>\n",
       "</table>\n",
       "</div>"
      ],
      "text/plain": [
       "         date  client_union_id  community_id create_date\n",
       "0  2020-05-07                1    -130371893  2018-12-24\n",
       "1  2020-05-07                2    -130304626  2019-02-10\n",
       "2  2020-05-07                3    -130462599  2019-01-25\n",
       "3  2020-05-07                4    -130574300  2018-12-09\n",
       "4  2020-05-07                5    -130292358  2019-01-08"
      ]
     },
     "execution_count": 112,
     "metadata": {},
     "output_type": "execute_result"
    }
   ],
   "source": [
    "clients.head()"
   ]
  },
  {
   "cell_type": "code",
   "execution_count": 113,
   "metadata": {},
   "outputs": [
    {
     "data": {
      "text/plain": [
       "122078"
      ]
     },
     "execution_count": 113,
     "metadata": {},
     "output_type": "execute_result"
    }
   ],
   "source": [
    "clients.client_union_id.nunique()"
   ]
  },
  {
   "cell_type": "code",
   "execution_count": 114,
   "metadata": {},
   "outputs": [],
   "source": [
    "ttl = ads.merge(clients, on = 'client_union_id' )"
   ]
  },
  {
   "cell_type": "code",
   "execution_count": 115,
   "metadata": {},
   "outputs": [
    {
     "data": {
      "text/html": [
       "<div>\n",
       "<style scoped>\n",
       "    .dataframe tbody tr th:only-of-type {\n",
       "        vertical-align: middle;\n",
       "    }\n",
       "\n",
       "    .dataframe tbody tr th {\n",
       "        vertical-align: top;\n",
       "    }\n",
       "\n",
       "    .dataframe thead th {\n",
       "        text-align: right;\n",
       "    }\n",
       "</style>\n",
       "<table border=\"1\" class=\"dataframe\">\n",
       "  <thead>\n",
       "    <tr style=\"text-align: right;\">\n",
       "      <th></th>\n",
       "      <th>date_x</th>\n",
       "      <th>time</th>\n",
       "      <th>event</th>\n",
       "      <th>platform</th>\n",
       "      <th>ad_id</th>\n",
       "      <th>client_union_id</th>\n",
       "      <th>campaign_union_id</th>\n",
       "      <th>ad_cost_type</th>\n",
       "      <th>ad_cost</th>\n",
       "      <th>has_video</th>\n",
       "      <th>target_audience_count</th>\n",
       "      <th>date_y</th>\n",
       "      <th>community_id</th>\n",
       "      <th>create_date</th>\n",
       "    </tr>\n",
       "  </thead>\n",
       "  <tbody>\n",
       "    <tr>\n",
       "      <th>0</th>\n",
       "      <td>2019-04-01</td>\n",
       "      <td>2019-04-01 00:00:48</td>\n",
       "      <td>view</td>\n",
       "      <td>android</td>\n",
       "      <td>45061</td>\n",
       "      <td>34734</td>\n",
       "      <td>45061</td>\n",
       "      <td>CPM</td>\n",
       "      <td>200.6</td>\n",
       "      <td>0</td>\n",
       "      <td>1955269</td>\n",
       "      <td>2020-05-07</td>\n",
       "      <td>-130129582</td>\n",
       "      <td>2018-12-04</td>\n",
       "    </tr>\n",
       "    <tr>\n",
       "      <th>1</th>\n",
       "      <td>2019-04-01</td>\n",
       "      <td>2019-04-01 00:03:28</td>\n",
       "      <td>view</td>\n",
       "      <td>android</td>\n",
       "      <td>45061</td>\n",
       "      <td>34734</td>\n",
       "      <td>45061</td>\n",
       "      <td>CPM</td>\n",
       "      <td>200.6</td>\n",
       "      <td>0</td>\n",
       "      <td>1955269</td>\n",
       "      <td>2020-05-07</td>\n",
       "      <td>-130129582</td>\n",
       "      <td>2018-12-04</td>\n",
       "    </tr>\n",
       "    <tr>\n",
       "      <th>2</th>\n",
       "      <td>2019-04-01</td>\n",
       "      <td>2019-04-01 00:04:58</td>\n",
       "      <td>view</td>\n",
       "      <td>ios</td>\n",
       "      <td>45061</td>\n",
       "      <td>34734</td>\n",
       "      <td>45061</td>\n",
       "      <td>CPM</td>\n",
       "      <td>200.6</td>\n",
       "      <td>0</td>\n",
       "      <td>1955269</td>\n",
       "      <td>2020-05-07</td>\n",
       "      <td>-130129582</td>\n",
       "      <td>2018-12-04</td>\n",
       "    </tr>\n",
       "    <tr>\n",
       "      <th>3</th>\n",
       "      <td>2019-04-01</td>\n",
       "      <td>2019-04-01 00:10:23</td>\n",
       "      <td>view</td>\n",
       "      <td>ios</td>\n",
       "      <td>45061</td>\n",
       "      <td>34734</td>\n",
       "      <td>45061</td>\n",
       "      <td>CPM</td>\n",
       "      <td>200.6</td>\n",
       "      <td>0</td>\n",
       "      <td>1955269</td>\n",
       "      <td>2020-05-07</td>\n",
       "      <td>-130129582</td>\n",
       "      <td>2018-12-04</td>\n",
       "    </tr>\n",
       "    <tr>\n",
       "      <th>4</th>\n",
       "      <td>2019-04-01</td>\n",
       "      <td>2019-04-01 00:15:42</td>\n",
       "      <td>view</td>\n",
       "      <td>android</td>\n",
       "      <td>45061</td>\n",
       "      <td>34734</td>\n",
       "      <td>45061</td>\n",
       "      <td>CPM</td>\n",
       "      <td>200.6</td>\n",
       "      <td>0</td>\n",
       "      <td>1955269</td>\n",
       "      <td>2020-05-07</td>\n",
       "      <td>-130129582</td>\n",
       "      <td>2018-12-04</td>\n",
       "    </tr>\n",
       "    <tr>\n",
       "      <th>5</th>\n",
       "      <td>2019-04-01</td>\n",
       "      <td>2019-04-01 00:16:59</td>\n",
       "      <td>view</td>\n",
       "      <td>ios</td>\n",
       "      <td>45061</td>\n",
       "      <td>34734</td>\n",
       "      <td>45061</td>\n",
       "      <td>CPM</td>\n",
       "      <td>200.6</td>\n",
       "      <td>0</td>\n",
       "      <td>1955269</td>\n",
       "      <td>2020-05-07</td>\n",
       "      <td>-130129582</td>\n",
       "      <td>2018-12-04</td>\n",
       "    </tr>\n",
       "    <tr>\n",
       "      <th>6</th>\n",
       "      <td>2019-04-01</td>\n",
       "      <td>2019-04-01 00:21:54</td>\n",
       "      <td>view</td>\n",
       "      <td>web</td>\n",
       "      <td>45061</td>\n",
       "      <td>34734</td>\n",
       "      <td>45061</td>\n",
       "      <td>CPM</td>\n",
       "      <td>200.6</td>\n",
       "      <td>0</td>\n",
       "      <td>1955269</td>\n",
       "      <td>2020-05-07</td>\n",
       "      <td>-130129582</td>\n",
       "      <td>2018-12-04</td>\n",
       "    </tr>\n",
       "    <tr>\n",
       "      <th>7</th>\n",
       "      <td>2019-04-01</td>\n",
       "      <td>2019-04-01 00:29:58</td>\n",
       "      <td>view</td>\n",
       "      <td>android</td>\n",
       "      <td>45061</td>\n",
       "      <td>34734</td>\n",
       "      <td>45061</td>\n",
       "      <td>CPM</td>\n",
       "      <td>200.6</td>\n",
       "      <td>0</td>\n",
       "      <td>1955269</td>\n",
       "      <td>2020-05-07</td>\n",
       "      <td>-130129582</td>\n",
       "      <td>2018-12-04</td>\n",
       "    </tr>\n",
       "    <tr>\n",
       "      <th>8</th>\n",
       "      <td>2019-04-01</td>\n",
       "      <td>2019-04-01 00:32:10</td>\n",
       "      <td>view</td>\n",
       "      <td>web</td>\n",
       "      <td>45061</td>\n",
       "      <td>34734</td>\n",
       "      <td>45061</td>\n",
       "      <td>CPM</td>\n",
       "      <td>200.6</td>\n",
       "      <td>0</td>\n",
       "      <td>1955269</td>\n",
       "      <td>2020-05-07</td>\n",
       "      <td>-130129582</td>\n",
       "      <td>2018-12-04</td>\n",
       "    </tr>\n",
       "    <tr>\n",
       "      <th>9</th>\n",
       "      <td>2019-04-01</td>\n",
       "      <td>2019-04-01 00:33:07</td>\n",
       "      <td>view</td>\n",
       "      <td>android</td>\n",
       "      <td>45061</td>\n",
       "      <td>34734</td>\n",
       "      <td>45061</td>\n",
       "      <td>CPM</td>\n",
       "      <td>200.6</td>\n",
       "      <td>0</td>\n",
       "      <td>1955269</td>\n",
       "      <td>2020-05-07</td>\n",
       "      <td>-130129582</td>\n",
       "      <td>2018-12-04</td>\n",
       "    </tr>\n",
       "  </tbody>\n",
       "</table>\n",
       "</div>"
      ],
      "text/plain": [
       "      date_x                 time event platform  ad_id  client_union_id  \\\n",
       "0 2019-04-01  2019-04-01 00:00:48  view  android  45061            34734   \n",
       "1 2019-04-01  2019-04-01 00:03:28  view  android  45061            34734   \n",
       "2 2019-04-01  2019-04-01 00:04:58  view      ios  45061            34734   \n",
       "3 2019-04-01  2019-04-01 00:10:23  view      ios  45061            34734   \n",
       "4 2019-04-01  2019-04-01 00:15:42  view  android  45061            34734   \n",
       "5 2019-04-01  2019-04-01 00:16:59  view      ios  45061            34734   \n",
       "6 2019-04-01  2019-04-01 00:21:54  view      web  45061            34734   \n",
       "7 2019-04-01  2019-04-01 00:29:58  view  android  45061            34734   \n",
       "8 2019-04-01  2019-04-01 00:32:10  view      web  45061            34734   \n",
       "9 2019-04-01  2019-04-01 00:33:07  view  android  45061            34734   \n",
       "\n",
       "   campaign_union_id ad_cost_type  ad_cost  has_video  target_audience_count  \\\n",
       "0              45061          CPM    200.6          0                1955269   \n",
       "1              45061          CPM    200.6          0                1955269   \n",
       "2              45061          CPM    200.6          0                1955269   \n",
       "3              45061          CPM    200.6          0                1955269   \n",
       "4              45061          CPM    200.6          0                1955269   \n",
       "5              45061          CPM    200.6          0                1955269   \n",
       "6              45061          CPM    200.6          0                1955269   \n",
       "7              45061          CPM    200.6          0                1955269   \n",
       "8              45061          CPM    200.6          0                1955269   \n",
       "9              45061          CPM    200.6          0                1955269   \n",
       "\n",
       "       date_y  community_id create_date  \n",
       "0  2020-05-07    -130129582  2018-12-04  \n",
       "1  2020-05-07    -130129582  2018-12-04  \n",
       "2  2020-05-07    -130129582  2018-12-04  \n",
       "3  2020-05-07    -130129582  2018-12-04  \n",
       "4  2020-05-07    -130129582  2018-12-04  \n",
       "5  2020-05-07    -130129582  2018-12-04  \n",
       "6  2020-05-07    -130129582  2018-12-04  \n",
       "7  2020-05-07    -130129582  2018-12-04  \n",
       "8  2020-05-07    -130129582  2018-12-04  \n",
       "9  2020-05-07    -130129582  2018-12-04  "
      ]
     },
     "execution_count": 115,
     "metadata": {},
     "output_type": "execute_result"
    }
   ],
   "source": [
    "ttl.head(10)"
   ]
  },
  {
   "cell_type": "code",
   "execution_count": 116,
   "metadata": {},
   "outputs": [],
   "source": [
    "#df['DateTime'] = pd.to_datetime(df['DateTime'])\n",
    "ttl['create_date'] = pd.to_datetime(ttl['create_date'])#change the data type to datetime\n",
    "ttl['date_x'] = pd.to_datetime(ttl['date_x'])#change the data type to datetime"
   ]
  },
  {
   "cell_type": "code",
   "execution_count": 117,
   "metadata": {},
   "outputs": [],
   "source": [
    "ttl['duration']=ttl['date_x'] - ttl['create_date']\n",
    "#calculate the diff between the date of client account creation and ads. \n",
    "#Save result  to the new column 'duration'"
   ]
  },
  {
   "cell_type": "code",
   "execution_count": 118,
   "metadata": {},
   "outputs": [
    {
     "data": {
      "text/plain": [
       "(1000000, 15)"
      ]
     },
     "execution_count": 118,
     "metadata": {},
     "output_type": "execute_result"
    }
   ],
   "source": [
    "ttl.shape"
   ]
  },
  {
   "cell_type": "code",
   "execution_count": 119,
   "metadata": {},
   "outputs": [
    {
     "data": {
      "text/html": [
       "<div>\n",
       "<style scoped>\n",
       "    .dataframe tbody tr th:only-of-type {\n",
       "        vertical-align: middle;\n",
       "    }\n",
       "\n",
       "    .dataframe tbody tr th {\n",
       "        vertical-align: top;\n",
       "    }\n",
       "\n",
       "    .dataframe thead th {\n",
       "        text-align: right;\n",
       "    }\n",
       "</style>\n",
       "<table border=\"1\" class=\"dataframe\">\n",
       "  <thead>\n",
       "    <tr style=\"text-align: right;\">\n",
       "      <th></th>\n",
       "      <th>date_x</th>\n",
       "      <th>time</th>\n",
       "      <th>event</th>\n",
       "      <th>platform</th>\n",
       "      <th>ad_id</th>\n",
       "      <th>client_union_id</th>\n",
       "      <th>campaign_union_id</th>\n",
       "      <th>ad_cost_type</th>\n",
       "      <th>ad_cost</th>\n",
       "      <th>has_video</th>\n",
       "      <th>target_audience_count</th>\n",
       "      <th>date_y</th>\n",
       "      <th>community_id</th>\n",
       "      <th>create_date</th>\n",
       "      <th>duration</th>\n",
       "    </tr>\n",
       "  </thead>\n",
       "  <tbody>\n",
       "    <tr>\n",
       "      <th>0</th>\n",
       "      <td>2019-04-01</td>\n",
       "      <td>2019-04-01 00:00:48</td>\n",
       "      <td>view</td>\n",
       "      <td>android</td>\n",
       "      <td>45061</td>\n",
       "      <td>34734</td>\n",
       "      <td>45061</td>\n",
       "      <td>CPM</td>\n",
       "      <td>200.6</td>\n",
       "      <td>0</td>\n",
       "      <td>1955269</td>\n",
       "      <td>2020-05-07</td>\n",
       "      <td>-130129582</td>\n",
       "      <td>2018-12-04</td>\n",
       "      <td>118 days</td>\n",
       "    </tr>\n",
       "    <tr>\n",
       "      <th>1</th>\n",
       "      <td>2019-04-01</td>\n",
       "      <td>2019-04-01 00:03:28</td>\n",
       "      <td>view</td>\n",
       "      <td>android</td>\n",
       "      <td>45061</td>\n",
       "      <td>34734</td>\n",
       "      <td>45061</td>\n",
       "      <td>CPM</td>\n",
       "      <td>200.6</td>\n",
       "      <td>0</td>\n",
       "      <td>1955269</td>\n",
       "      <td>2020-05-07</td>\n",
       "      <td>-130129582</td>\n",
       "      <td>2018-12-04</td>\n",
       "      <td>118 days</td>\n",
       "    </tr>\n",
       "    <tr>\n",
       "      <th>2</th>\n",
       "      <td>2019-04-01</td>\n",
       "      <td>2019-04-01 00:04:58</td>\n",
       "      <td>view</td>\n",
       "      <td>ios</td>\n",
       "      <td>45061</td>\n",
       "      <td>34734</td>\n",
       "      <td>45061</td>\n",
       "      <td>CPM</td>\n",
       "      <td>200.6</td>\n",
       "      <td>0</td>\n",
       "      <td>1955269</td>\n",
       "      <td>2020-05-07</td>\n",
       "      <td>-130129582</td>\n",
       "      <td>2018-12-04</td>\n",
       "      <td>118 days</td>\n",
       "    </tr>\n",
       "    <tr>\n",
       "      <th>3</th>\n",
       "      <td>2019-04-01</td>\n",
       "      <td>2019-04-01 00:10:23</td>\n",
       "      <td>view</td>\n",
       "      <td>ios</td>\n",
       "      <td>45061</td>\n",
       "      <td>34734</td>\n",
       "      <td>45061</td>\n",
       "      <td>CPM</td>\n",
       "      <td>200.6</td>\n",
       "      <td>0</td>\n",
       "      <td>1955269</td>\n",
       "      <td>2020-05-07</td>\n",
       "      <td>-130129582</td>\n",
       "      <td>2018-12-04</td>\n",
       "      <td>118 days</td>\n",
       "    </tr>\n",
       "    <tr>\n",
       "      <th>4</th>\n",
       "      <td>2019-04-01</td>\n",
       "      <td>2019-04-01 00:15:42</td>\n",
       "      <td>view</td>\n",
       "      <td>android</td>\n",
       "      <td>45061</td>\n",
       "      <td>34734</td>\n",
       "      <td>45061</td>\n",
       "      <td>CPM</td>\n",
       "      <td>200.6</td>\n",
       "      <td>0</td>\n",
       "      <td>1955269</td>\n",
       "      <td>2020-05-07</td>\n",
       "      <td>-130129582</td>\n",
       "      <td>2018-12-04</td>\n",
       "      <td>118 days</td>\n",
       "    </tr>\n",
       "    <tr>\n",
       "      <th>...</th>\n",
       "      <td>...</td>\n",
       "      <td>...</td>\n",
       "      <td>...</td>\n",
       "      <td>...</td>\n",
       "      <td>...</td>\n",
       "      <td>...</td>\n",
       "      <td>...</td>\n",
       "      <td>...</td>\n",
       "      <td>...</td>\n",
       "      <td>...</td>\n",
       "      <td>...</td>\n",
       "      <td>...</td>\n",
       "      <td>...</td>\n",
       "      <td>...</td>\n",
       "      <td>...</td>\n",
       "    </tr>\n",
       "    <tr>\n",
       "      <th>999995</th>\n",
       "      <td>2019-04-04</td>\n",
       "      <td>2019-04-04 18:07:25</td>\n",
       "      <td>view</td>\n",
       "      <td>web</td>\n",
       "      <td>43921</td>\n",
       "      <td>30712</td>\n",
       "      <td>43920</td>\n",
       "      <td>CPM</td>\n",
       "      <td>196.7</td>\n",
       "      <td>0</td>\n",
       "      <td>7807</td>\n",
       "      <td>2020-05-07</td>\n",
       "      <td>-130652663</td>\n",
       "      <td>2019-03-04</td>\n",
       "      <td>31 days</td>\n",
       "    </tr>\n",
       "    <tr>\n",
       "      <th>999996</th>\n",
       "      <td>2019-04-04</td>\n",
       "      <td>2019-04-04 18:29:06</td>\n",
       "      <td>view</td>\n",
       "      <td>ios</td>\n",
       "      <td>43921</td>\n",
       "      <td>30712</td>\n",
       "      <td>43920</td>\n",
       "      <td>CPM</td>\n",
       "      <td>196.7</td>\n",
       "      <td>0</td>\n",
       "      <td>7807</td>\n",
       "      <td>2020-05-07</td>\n",
       "      <td>-130652663</td>\n",
       "      <td>2019-03-04</td>\n",
       "      <td>31 days</td>\n",
       "    </tr>\n",
       "    <tr>\n",
       "      <th>999997</th>\n",
       "      <td>2019-04-04</td>\n",
       "      <td>2019-04-04 18:55:46</td>\n",
       "      <td>view</td>\n",
       "      <td>web</td>\n",
       "      <td>43921</td>\n",
       "      <td>30712</td>\n",
       "      <td>43920</td>\n",
       "      <td>CPM</td>\n",
       "      <td>196.7</td>\n",
       "      <td>0</td>\n",
       "      <td>7807</td>\n",
       "      <td>2020-05-07</td>\n",
       "      <td>-130652663</td>\n",
       "      <td>2019-03-04</td>\n",
       "      <td>31 days</td>\n",
       "    </tr>\n",
       "    <tr>\n",
       "      <th>999998</th>\n",
       "      <td>2019-04-04</td>\n",
       "      <td>2019-04-04 19:21:09</td>\n",
       "      <td>view</td>\n",
       "      <td>android</td>\n",
       "      <td>43921</td>\n",
       "      <td>30712</td>\n",
       "      <td>43920</td>\n",
       "      <td>CPM</td>\n",
       "      <td>196.7</td>\n",
       "      <td>0</td>\n",
       "      <td>7807</td>\n",
       "      <td>2020-05-07</td>\n",
       "      <td>-130652663</td>\n",
       "      <td>2019-03-04</td>\n",
       "      <td>31 days</td>\n",
       "    </tr>\n",
       "    <tr>\n",
       "      <th>999999</th>\n",
       "      <td>2019-04-04</td>\n",
       "      <td>2019-04-04 20:22:57</td>\n",
       "      <td>view</td>\n",
       "      <td>ios</td>\n",
       "      <td>43921</td>\n",
       "      <td>30712</td>\n",
       "      <td>43920</td>\n",
       "      <td>CPM</td>\n",
       "      <td>196.7</td>\n",
       "      <td>0</td>\n",
       "      <td>7807</td>\n",
       "      <td>2020-05-07</td>\n",
       "      <td>-130652663</td>\n",
       "      <td>2019-03-04</td>\n",
       "      <td>31 days</td>\n",
       "    </tr>\n",
       "  </tbody>\n",
       "</table>\n",
       "<p>1000000 rows × 15 columns</p>\n",
       "</div>"
      ],
      "text/plain": [
       "           date_x                 time event platform  ad_id  client_union_id  \\\n",
       "0      2019-04-01  2019-04-01 00:00:48  view  android  45061            34734   \n",
       "1      2019-04-01  2019-04-01 00:03:28  view  android  45061            34734   \n",
       "2      2019-04-01  2019-04-01 00:04:58  view      ios  45061            34734   \n",
       "3      2019-04-01  2019-04-01 00:10:23  view      ios  45061            34734   \n",
       "4      2019-04-01  2019-04-01 00:15:42  view  android  45061            34734   \n",
       "...           ...                  ...   ...      ...    ...              ...   \n",
       "999995 2019-04-04  2019-04-04 18:07:25  view      web  43921            30712   \n",
       "999996 2019-04-04  2019-04-04 18:29:06  view      ios  43921            30712   \n",
       "999997 2019-04-04  2019-04-04 18:55:46  view      web  43921            30712   \n",
       "999998 2019-04-04  2019-04-04 19:21:09  view  android  43921            30712   \n",
       "999999 2019-04-04  2019-04-04 20:22:57  view      ios  43921            30712   \n",
       "\n",
       "        campaign_union_id ad_cost_type  ad_cost  has_video  \\\n",
       "0                   45061          CPM    200.6          0   \n",
       "1                   45061          CPM    200.6          0   \n",
       "2                   45061          CPM    200.6          0   \n",
       "3                   45061          CPM    200.6          0   \n",
       "4                   45061          CPM    200.6          0   \n",
       "...                   ...          ...      ...        ...   \n",
       "999995              43920          CPM    196.7          0   \n",
       "999996              43920          CPM    196.7          0   \n",
       "999997              43920          CPM    196.7          0   \n",
       "999998              43920          CPM    196.7          0   \n",
       "999999              43920          CPM    196.7          0   \n",
       "\n",
       "        target_audience_count      date_y  community_id create_date duration  \n",
       "0                     1955269  2020-05-07    -130129582  2018-12-04 118 days  \n",
       "1                     1955269  2020-05-07    -130129582  2018-12-04 118 days  \n",
       "2                     1955269  2020-05-07    -130129582  2018-12-04 118 days  \n",
       "3                     1955269  2020-05-07    -130129582  2018-12-04 118 days  \n",
       "4                     1955269  2020-05-07    -130129582  2018-12-04 118 days  \n",
       "...                       ...         ...           ...         ...      ...  \n",
       "999995                   7807  2020-05-07    -130652663  2019-03-04  31 days  \n",
       "999996                   7807  2020-05-07    -130652663  2019-03-04  31 days  \n",
       "999997                   7807  2020-05-07    -130652663  2019-03-04  31 days  \n",
       "999998                   7807  2020-05-07    -130652663  2019-03-04  31 days  \n",
       "999999                   7807  2020-05-07    -130652663  2019-03-04  31 days  \n",
       "\n",
       "[1000000 rows x 15 columns]"
      ]
     },
     "execution_count": 119,
     "metadata": {},
     "output_type": "execute_result"
    }
   ],
   "source": [
    "ttl"
   ]
  },
  {
   "cell_type": "code",
   "execution_count": 120,
   "metadata": {},
   "outputs": [],
   "source": [
    "first_ads = ttl.groupby('client_union_id').duration.min()# find min date- first date of ads"
   ]
  },
  {
   "cell_type": "code",
   "execution_count": 121,
   "metadata": {},
   "outputs": [
    {
     "data": {
      "text/plain": [
       "client_union_id\n",
       "1         98 days\n",
       "9        114 days\n",
       "13        66 days\n",
       "16       105 days\n",
       "20        32 days\n",
       "           ...   \n",
       "122004    67 days\n",
       "122013   151 days\n",
       "122023   126 days\n",
       "122031    96 days\n",
       "122078    71 days\n",
       "Name: duration, Length: 838, dtype: timedelta64[ns]"
      ]
     },
     "execution_count": 121,
     "metadata": {},
     "output_type": "execute_result"
    }
   ],
   "source": [
    "first_ads"
   ]
  },
  {
   "cell_type": "code",
   "execution_count": 153,
   "metadata": {},
   "outputs": [
    {
     "data": {
      "text/plain": [
       "Timedelta('124 days 09:04:43.532219')"
      ]
     },
     "execution_count": 153,
     "metadata": {},
     "output_type": "execute_result"
    }
   ],
   "source": [
    "first_ads.mean() # find the average amount of days from account creation till ad"
   ]
  },
  {
   "cell_type": "markdown",
   "metadata": {},
   "source": [
    "3. CR\n",
    "Давайте вычислим конверсию из создания рекламного кабинета в запуск первой рекламы в течение не более 365 дней.\n",
    "\n",
    "Let's calculate the conversion from the creation of an advertising account to the launch of the first ad within no more than 365 days."
   ]
  },
  {
   "cell_type": "markdown",
   "metadata": {},
   "source": [
    "First,we have to select the customers whose first ads were launched no later than a year after registration.\n",
    "Then count their number and divide by the number of all customers, convert to a percentage and round up to the 2nd decimal place."
   ]
  },
  {
   "cell_type": "code",
   "execution_count": 184,
   "metadata": {},
   "outputs": [],
   "source": [
    "df_first_ads = first_ads.to_frame() #create df from Series"
   ]
  },
  {
   "cell_type": "code",
   "execution_count": 185,
   "metadata": {},
   "outputs": [
    {
     "data": {
      "text/html": [
       "<div>\n",
       "<style scoped>\n",
       "    .dataframe tbody tr th:only-of-type {\n",
       "        vertical-align: middle;\n",
       "    }\n",
       "\n",
       "    .dataframe tbody tr th {\n",
       "        vertical-align: top;\n",
       "    }\n",
       "\n",
       "    .dataframe thead th {\n",
       "        text-align: right;\n",
       "    }\n",
       "</style>\n",
       "<table border=\"1\" class=\"dataframe\">\n",
       "  <thead>\n",
       "    <tr style=\"text-align: right;\">\n",
       "      <th></th>\n",
       "      <th>duration</th>\n",
       "    </tr>\n",
       "    <tr>\n",
       "      <th>client_union_id</th>\n",
       "      <th></th>\n",
       "    </tr>\n",
       "  </thead>\n",
       "  <tbody>\n",
       "    <tr>\n",
       "      <th>1</th>\n",
       "      <td>98 days</td>\n",
       "    </tr>\n",
       "    <tr>\n",
       "      <th>9</th>\n",
       "      <td>114 days</td>\n",
       "    </tr>\n",
       "    <tr>\n",
       "      <th>13</th>\n",
       "      <td>66 days</td>\n",
       "    </tr>\n",
       "    <tr>\n",
       "      <th>16</th>\n",
       "      <td>105 days</td>\n",
       "    </tr>\n",
       "    <tr>\n",
       "      <th>20</th>\n",
       "      <td>32 days</td>\n",
       "    </tr>\n",
       "    <tr>\n",
       "      <th>...</th>\n",
       "      <td>...</td>\n",
       "    </tr>\n",
       "    <tr>\n",
       "      <th>122004</th>\n",
       "      <td>67 days</td>\n",
       "    </tr>\n",
       "    <tr>\n",
       "      <th>122013</th>\n",
       "      <td>151 days</td>\n",
       "    </tr>\n",
       "    <tr>\n",
       "      <th>122023</th>\n",
       "      <td>126 days</td>\n",
       "    </tr>\n",
       "    <tr>\n",
       "      <th>122031</th>\n",
       "      <td>96 days</td>\n",
       "    </tr>\n",
       "    <tr>\n",
       "      <th>122078</th>\n",
       "      <td>71 days</td>\n",
       "    </tr>\n",
       "  </tbody>\n",
       "</table>\n",
       "<p>838 rows × 1 columns</p>\n",
       "</div>"
      ],
      "text/plain": [
       "                duration\n",
       "client_union_id         \n",
       "1                98 days\n",
       "9               114 days\n",
       "13               66 days\n",
       "16              105 days\n",
       "20               32 days\n",
       "...                  ...\n",
       "122004           67 days\n",
       "122013          151 days\n",
       "122023          126 days\n",
       "122031           96 days\n",
       "122078           71 days\n",
       "\n",
       "[838 rows x 1 columns]"
      ]
     },
     "execution_count": 185,
     "metadata": {},
     "output_type": "execute_result"
    }
   ],
   "source": [
    "df_first_ads"
   ]
  },
  {
   "cell_type": "code",
   "execution_count": 186,
   "metadata": {},
   "outputs": [],
   "source": [
    "df_first_ads['duration'] = df_first_ads['duration'].dt.days #change timedelta type od column to int"
   ]
  },
  {
   "cell_type": "code",
   "execution_count": 189,
   "metadata": {},
   "outputs": [
    {
     "data": {
      "text/plain": [
       "duration    int64\n",
       "dtype: object"
      ]
     },
     "execution_count": 189,
     "metadata": {},
     "output_type": "execute_result"
    }
   ],
   "source": [
    "df_first_ads.dtypes"
   ]
  },
  {
   "cell_type": "code",
   "execution_count": 190,
   "metadata": {},
   "outputs": [],
   "source": [
    "within_year = df_first_ads.query('duration < 365') # select values less than 365"
   ]
  },
  {
   "cell_type": "code",
   "execution_count": 191,
   "metadata": {},
   "outputs": [
    {
     "data": {
      "text/html": [
       "<div>\n",
       "<style scoped>\n",
       "    .dataframe tbody tr th:only-of-type {\n",
       "        vertical-align: middle;\n",
       "    }\n",
       "\n",
       "    .dataframe tbody tr th {\n",
       "        vertical-align: top;\n",
       "    }\n",
       "\n",
       "    .dataframe thead th {\n",
       "        text-align: right;\n",
       "    }\n",
       "</style>\n",
       "<table border=\"1\" class=\"dataframe\">\n",
       "  <thead>\n",
       "    <tr style=\"text-align: right;\">\n",
       "      <th></th>\n",
       "      <th>duration</th>\n",
       "    </tr>\n",
       "    <tr>\n",
       "      <th>client_union_id</th>\n",
       "      <th></th>\n",
       "    </tr>\n",
       "  </thead>\n",
       "  <tbody>\n",
       "    <tr>\n",
       "      <th>1</th>\n",
       "      <td>98</td>\n",
       "    </tr>\n",
       "    <tr>\n",
       "      <th>9</th>\n",
       "      <td>114</td>\n",
       "    </tr>\n",
       "    <tr>\n",
       "      <th>13</th>\n",
       "      <td>66</td>\n",
       "    </tr>\n",
       "    <tr>\n",
       "      <th>16</th>\n",
       "      <td>105</td>\n",
       "    </tr>\n",
       "    <tr>\n",
       "      <th>20</th>\n",
       "      <td>32</td>\n",
       "    </tr>\n",
       "    <tr>\n",
       "      <th>...</th>\n",
       "      <td>...</td>\n",
       "    </tr>\n",
       "    <tr>\n",
       "      <th>122004</th>\n",
       "      <td>67</td>\n",
       "    </tr>\n",
       "    <tr>\n",
       "      <th>122013</th>\n",
       "      <td>151</td>\n",
       "    </tr>\n",
       "    <tr>\n",
       "      <th>122023</th>\n",
       "      <td>126</td>\n",
       "    </tr>\n",
       "    <tr>\n",
       "      <th>122031</th>\n",
       "      <td>96</td>\n",
       "    </tr>\n",
       "    <tr>\n",
       "      <th>122078</th>\n",
       "      <td>71</td>\n",
       "    </tr>\n",
       "  </tbody>\n",
       "</table>\n",
       "<p>838 rows × 1 columns</p>\n",
       "</div>"
      ],
      "text/plain": [
       "                 duration\n",
       "client_union_id          \n",
       "1                      98\n",
       "9                     114\n",
       "13                     66\n",
       "16                    105\n",
       "20                     32\n",
       "...                   ...\n",
       "122004                 67\n",
       "122013                151\n",
       "122023                126\n",
       "122031                 96\n",
       "122078                 71\n",
       "\n",
       "[838 rows x 1 columns]"
      ]
     },
     "execution_count": 191,
     "metadata": {},
     "output_type": "execute_result"
    }
   ],
   "source": [
    "within_year"
   ]
  },
  {
   "cell_type": "code",
   "execution_count": 199,
   "metadata": {},
   "outputs": [],
   "source": [
    "cr = (len(within_year['duration'])/clients['client_union_id'].nunique())*100 # CR calculation"
   ]
  },
  {
   "cell_type": "code",
   "execution_count": 200,
   "metadata": {},
   "outputs": [
    {
     "data": {
      "text/plain": [
       "0.6864463703533806"
      ]
     },
     "execution_count": 200,
     "metadata": {},
     "output_type": "execute_result"
    }
   ],
   "source": [
    "cr"
   ]
  },
  {
   "cell_type": "markdown",
   "metadata": {},
   "source": [
    "Давайте разобъем наших клиентов по промежуткам от создания рекламного кабинета до запуска первого рекламного объявления.\n",
    "\n",
    "Let's devide our clients by intervals from the creation of an advertising account to the launch of the first advertisement."
   ]
  },
  {
   "cell_type": "markdown",
   "metadata": {},
   "source": [
    "Определим, сколько уникальных клиентов запустили свое первое объявление в первый месяц своего существования (от 0 до 30 дней). Список промежутков дней для метода pd.cut() – [0, 30, 90, 180, 365]. \n",
    "Создать временные промежутки можно с помощью pd.to_timedelta().\n",
    "\n",
    "Let's determine how many unique customers launched their first ad in the first month of their existence (from 0 to 30 days). The list of day intervals for the pd.cut() method is [0, 30, 90, 180, 365].\n",
    "Time periods can be created using pd.to_timedelta()."
   ]
  },
  {
   "cell_type": "code",
   "execution_count": 206,
   "metadata": {},
   "outputs": [],
   "source": [
    "bins = [0, 30, 90, 180, 365] #set the periods"
   ]
  },
  {
   "cell_type": "code",
   "execution_count": 207,
   "metadata": {},
   "outputs": [],
   "source": [
    "labels = ('0-30','30-90', '90-180', '>365') @set the names of the periods"
   ]
  },
  {
   "cell_type": "code",
   "execution_count": 208,
   "metadata": {},
   "outputs": [],
   "source": [
    "binned = pd.cut(df_first_ads['duration'], bins, labels = labels) #cut the values into periods"
   ]
  },
  {
   "cell_type": "code",
   "execution_count": 210,
   "metadata": {},
   "outputs": [
    {
     "data": {
      "text/plain": [
       "90-180    396\n",
       "30-90     263\n",
       ">365      168\n",
       "0-30       11\n",
       "Name: duration, dtype: int64"
      ]
     },
     "execution_count": 210,
     "metadata": {},
     "output_type": "execute_result"
    }
   ],
   "source": [
    "binned.value_counts() #calculate how many values are in each period"
   ]
  }
 ],
 "metadata": {
  "kernelspec": {
   "display_name": "Python 3",
   "language": "python",
   "name": "python3"
  },
  "language_info": {
   "codemirror_mode": {
    "name": "ipython",
    "version": 3
   },
   "file_extension": ".py",
   "mimetype": "text/x-python",
   "name": "python",
   "nbconvert_exporter": "python",
   "pygments_lexer": "ipython3",
   "version": "3.8.3"
  }
 },
 "nbformat": 4,
 "nbformat_minor": 4
}
